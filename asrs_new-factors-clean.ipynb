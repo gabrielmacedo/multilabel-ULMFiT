{
 "cells": [
  {
   "cell_type": "markdown",
   "metadata": {},
   "source": [
    "# Multilable text classification with fastai v1"
   ]
  },
  {
   "cell_type": "code",
   "execution_count": 1,
   "metadata": {},
   "outputs": [],
   "source": [
    "%reload_ext autoreload\n",
    "%autoreload 2\n",
    "%matplotlib inline"
   ]
  },
  {
   "cell_type": "code",
   "execution_count": 2,
   "metadata": {},
   "outputs": [],
   "source": [
    "from fastai import *\n",
    "from fastai.text import *"
   ]
  },
  {
   "cell_type": "code",
   "execution_count": 3,
   "metadata": {},
   "outputs": [],
   "source": [
    "path = Path('data')"
   ]
  },
  {
   "cell_type": "markdown",
   "metadata": {},
   "source": [
    "## Prepare dataframe"
   ]
  },
  {
   "cell_type": "code",
   "execution_count": 4,
   "metadata": {
    "scrolled": true
   },
   "outputs": [
    {
     "data": {
      "text/html": [
       "<div>\n",
       "<style scoped>\n",
       "    .dataframe tbody tr th:only-of-type {\n",
       "        vertical-align: middle;\n",
       "    }\n",
       "\n",
       "    .dataframe tbody tr th {\n",
       "        vertical-align: top;\n",
       "    }\n",
       "\n",
       "    .dataframe thead th {\n",
       "        text-align: right;\n",
       "    }\n",
       "</style>\n",
       "<table border=\"1\" class=\"dataframe\">\n",
       "  <thead>\n",
       "    <tr style=\"text-align: right;\">\n",
       "      <th></th>\n",
       "      <th>ACN</th>\n",
       "      <th>Date</th>\n",
       "      <th>Local Time Of Day</th>\n",
       "      <th>Locale Reference</th>\n",
       "      <th>State Reference</th>\n",
       "      <th>Relative Position.Angle.Radial</th>\n",
       "      <th>Relative Position.Distance.Nautical Miles</th>\n",
       "      <th>Altitude.AGL.Single Value</th>\n",
       "      <th>Altitude.MSL.Single Value</th>\n",
       "      <th>Flight Conditions</th>\n",
       "      <th>...</th>\n",
       "      <th>When Detected</th>\n",
       "      <th>Result</th>\n",
       "      <th>Contributing Factors / Situations</th>\n",
       "      <th>Primary Problem</th>\n",
       "      <th>Narrative</th>\n",
       "      <th>Callback</th>\n",
       "      <th>Narrative.1</th>\n",
       "      <th>Callback.1</th>\n",
       "      <th>Synopsis</th>\n",
       "      <th>Unnamed: 96</th>\n",
       "    </tr>\n",
       "  </thead>\n",
       "  <tbody>\n",
       "    <tr>\n",
       "      <th>0</th>\n",
       "      <td>925545</td>\n",
       "      <td>201101</td>\n",
       "      <td>0001-0600</td>\n",
       "      <td>ZNY.ARTCC</td>\n",
       "      <td>NY</td>\n",
       "      <td>NaN</td>\n",
       "      <td>NaN</td>\n",
       "      <td>NaN</td>\n",
       "      <td>19000.0</td>\n",
       "      <td>NaN</td>\n",
       "      <td>...</td>\n",
       "      <td>NaN</td>\n",
       "      <td>Air Traffic Control Issued New Clearance</td>\n",
       "      <td>Aircraft; Equipment / Tooling; Human Factors</td>\n",
       "      <td>Human Factors</td>\n",
       "      <td>[I was] working air carrier 1 at FL190. Sector...</td>\n",
       "      <td>NaN</td>\n",
       "      <td>Air carrier 1 [was] being worked by Sector 56 ...</td>\n",
       "      <td>NaN</td>\n",
       "      <td>ZNY controllers and flight crew personnel desc...</td>\n",
       "      <td>NaN</td>\n",
       "    </tr>\n",
       "    <tr>\n",
       "      <th>1</th>\n",
       "      <td>925560</td>\n",
       "      <td>201101</td>\n",
       "      <td>1201-1800</td>\n",
       "      <td>ZZZ.Tower</td>\n",
       "      <td>US</td>\n",
       "      <td>NaN</td>\n",
       "      <td>NaN</td>\n",
       "      <td>0.0</td>\n",
       "      <td>NaN</td>\n",
       "      <td>NaN</td>\n",
       "      <td>...</td>\n",
       "      <td>Taxi</td>\n",
       "      <td>Air Traffic Control Issued New Clearance; Air ...</td>\n",
       "      <td>Human Factors</td>\n",
       "      <td>Human Factors</td>\n",
       "      <td>Aircraft X; a CRJ2; landed Runway XXL and was ...</td>\n",
       "      <td>NaN</td>\n",
       "      <td>NaN</td>\n",
       "      <td>NaN</td>\n",
       "      <td>Disabled aircraft causes airport authority to ...</td>\n",
       "      <td>NaN</td>\n",
       "    </tr>\n",
       "    <tr>\n",
       "      <th>2</th>\n",
       "      <td>925563</td>\n",
       "      <td>201101</td>\n",
       "      <td>1201-1800</td>\n",
       "      <td>ZOB.ARTCC</td>\n",
       "      <td>OH</td>\n",
       "      <td>NaN</td>\n",
       "      <td>NaN</td>\n",
       "      <td>NaN</td>\n",
       "      <td>15000.0</td>\n",
       "      <td>NaN</td>\n",
       "      <td>...</td>\n",
       "      <td>In-flight</td>\n",
       "      <td>Air Traffic Control Issued New Clearance; Air ...</td>\n",
       "      <td>Human Factors; Procedure; Staffing</td>\n",
       "      <td>Human Factors</td>\n",
       "      <td>I was working combined sectors with no D-side....</td>\n",
       "      <td>NaN</td>\n",
       "      <td>NaN</td>\n",
       "      <td>NaN</td>\n",
       "      <td>ZOB Controller reported that when an aircraft ...</td>\n",
       "      <td>NaN</td>\n",
       "    </tr>\n",
       "    <tr>\n",
       "      <th>3</th>\n",
       "      <td>925810</td>\n",
       "      <td>201101</td>\n",
       "      <td>0001-0600</td>\n",
       "      <td>ZZZ.Airport</td>\n",
       "      <td>US</td>\n",
       "      <td>NaN</td>\n",
       "      <td>NaN</td>\n",
       "      <td>0.0</td>\n",
       "      <td>NaN</td>\n",
       "      <td>NaN</td>\n",
       "      <td>...</td>\n",
       "      <td>Aircraft In Service At Gate</td>\n",
       "      <td>Flight Crew Returned To Gate; General Maintena...</td>\n",
       "      <td>Procedure; Human Factors; Aircraft; Staffing; ...</td>\n",
       "      <td>Aircraft</td>\n",
       "      <td>[We] arrived to a cold airplane with ambient t...</td>\n",
       "      <td>NaN</td>\n",
       "      <td>NaN</td>\n",
       "      <td>NaN</td>\n",
       "      <td>A CRJ flight crew suffered a hot start on a fi...</td>\n",
       "      <td>NaN</td>\n",
       "    </tr>\n",
       "    <tr>\n",
       "      <th>4</th>\n",
       "      <td>925811</td>\n",
       "      <td>201101</td>\n",
       "      <td>0601-1200</td>\n",
       "      <td>ZZZ.Airport</td>\n",
       "      <td>US</td>\n",
       "      <td>NaN</td>\n",
       "      <td>NaN</td>\n",
       "      <td>NaN</td>\n",
       "      <td>32500.0</td>\n",
       "      <td>IMC</td>\n",
       "      <td>...</td>\n",
       "      <td>In-flight</td>\n",
       "      <td>Air Traffic Control Provided Assistance; Aircr...</td>\n",
       "      <td>Aircraft; Weather</td>\n",
       "      <td>Aircraft</td>\n",
       "      <td>During the climbout we entered the ragged over...</td>\n",
       "      <td>NaN</td>\n",
       "      <td>NaN</td>\n",
       "      <td>NaN</td>\n",
       "      <td>B717 Captain experienced simultaneous overspee...</td>\n",
       "      <td>NaN</td>\n",
       "    </tr>\n",
       "  </tbody>\n",
       "</table>\n",
       "<p>5 rows × 97 columns</p>\n",
       "</div>"
      ],
      "text/plain": [
       "      ACN    Date Local Time Of Day Locale Reference State Reference  \\\n",
       "0  925545  201101         0001-0600        ZNY.ARTCC              NY   \n",
       "1  925560  201101         1201-1800        ZZZ.Tower              US   \n",
       "2  925563  201101         1201-1800        ZOB.ARTCC              OH   \n",
       "3  925810  201101         0001-0600      ZZZ.Airport              US   \n",
       "4  925811  201101         0601-1200      ZZZ.Airport              US   \n",
       "\n",
       "   Relative Position.Angle.Radial  Relative Position.Distance.Nautical Miles  \\\n",
       "0                             NaN                                        NaN   \n",
       "1                             NaN                                        NaN   \n",
       "2                             NaN                                        NaN   \n",
       "3                             NaN                                        NaN   \n",
       "4                             NaN                                        NaN   \n",
       "\n",
       "   Altitude.AGL.Single Value  Altitude.MSL.Single Value Flight Conditions  \\\n",
       "0                        NaN                    19000.0               NaN   \n",
       "1                        0.0                        NaN               NaN   \n",
       "2                        NaN                    15000.0               NaN   \n",
       "3                        0.0                        NaN               NaN   \n",
       "4                        NaN                    32500.0               IMC   \n",
       "\n",
       "      ...                     When Detected  \\\n",
       "0     ...                               NaN   \n",
       "1     ...                              Taxi   \n",
       "2     ...                         In-flight   \n",
       "3     ...       Aircraft In Service At Gate   \n",
       "4     ...                         In-flight   \n",
       "\n",
       "                                              Result  \\\n",
       "0           Air Traffic Control Issued New Clearance   \n",
       "1  Air Traffic Control Issued New Clearance; Air ...   \n",
       "2  Air Traffic Control Issued New Clearance; Air ...   \n",
       "3  Flight Crew Returned To Gate; General Maintena...   \n",
       "4  Air Traffic Control Provided Assistance; Aircr...   \n",
       "\n",
       "                   Contributing Factors / Situations Primary Problem  \\\n",
       "0       Aircraft; Equipment / Tooling; Human Factors   Human Factors   \n",
       "1                                      Human Factors   Human Factors   \n",
       "2                 Human Factors; Procedure; Staffing   Human Factors   \n",
       "3  Procedure; Human Factors; Aircraft; Staffing; ...        Aircraft   \n",
       "4                                  Aircraft; Weather        Aircraft   \n",
       "\n",
       "                                           Narrative Callback  \\\n",
       "0  [I was] working air carrier 1 at FL190. Sector...      NaN   \n",
       "1  Aircraft X; a CRJ2; landed Runway XXL and was ...      NaN   \n",
       "2  I was working combined sectors with no D-side....      NaN   \n",
       "3  [We] arrived to a cold airplane with ambient t...      NaN   \n",
       "4  During the climbout we entered the ragged over...      NaN   \n",
       "\n",
       "                                         Narrative.1 Callback.1  \\\n",
       "0  Air carrier 1 [was] being worked by Sector 56 ...        NaN   \n",
       "1                                                NaN        NaN   \n",
       "2                                                NaN        NaN   \n",
       "3                                                NaN        NaN   \n",
       "4                                                NaN        NaN   \n",
       "\n",
       "                                            Synopsis  Unnamed: 96  \n",
       "0  ZNY controllers and flight crew personnel desc...          NaN  \n",
       "1  Disabled aircraft causes airport authority to ...          NaN  \n",
       "2  ZOB Controller reported that when an aircraft ...          NaN  \n",
       "3  A CRJ flight crew suffered a hot start on a fi...          NaN  \n",
       "4  B717 Captain experienced simultaneous overspee...          NaN  \n",
       "\n",
       "[5 rows x 97 columns]"
      ]
     },
     "execution_count": 4,
     "metadata": {},
     "output_type": "execute_result"
    }
   ],
   "source": [
    "df_trn = pd.read_csv(path/'train_Robinson.csv', skiprows=1,low_memory=False, dtype={'Contributing Factors / Situations':str})\n",
    "df_val = pd.read_csv(path/'valid.csv', skiprows=1,low_memory=False, dtype={'Contributing Factors / Situations':str})\n",
    "df_trn.head(5)"
   ]
  },
  {
   "cell_type": "code",
   "execution_count": 5,
   "metadata": {},
   "outputs": [
    {
     "data": {
      "text/plain": [
       "((4500, 97), (2948, 97))"
      ]
     },
     "execution_count": 5,
     "metadata": {},
     "output_type": "execute_result"
    }
   ],
   "source": [
    "df_trn.shape, df_val.shape"
   ]
  },
  {
   "cell_type": "code",
   "execution_count": 6,
   "metadata": {},
   "outputs": [
    {
     "data": {
      "text/plain": [
       "15"
      ]
     },
     "execution_count": 6,
     "metadata": {},
     "output_type": "execute_result"
    }
   ],
   "source": [
    "df_trn['Contributing Factors / Situations'].isna().sum()"
   ]
  },
  {
   "cell_type": "code",
   "execution_count": 7,
   "metadata": {},
   "outputs": [
    {
     "data": {
      "text/plain": [
       "13"
      ]
     },
     "execution_count": 7,
     "metadata": {},
     "output_type": "execute_result"
    }
   ],
   "source": [
    "df_val['Contributing Factors / Situations'].isna().sum()"
   ]
  },
  {
   "cell_type": "code",
   "execution_count": 8,
   "metadata": {},
   "outputs": [],
   "source": [
    "df_trn.dropna(axis=0, subset=['Contributing Factors / Situations'], inplace=True)\n",
    "df_val.dropna(axis=0, subset=['Contributing Factors / Situations'], inplace=True)"
   ]
  },
  {
   "cell_type": "code",
   "execution_count": 9,
   "metadata": {},
   "outputs": [
    {
     "data": {
      "text/plain": [
       "(4485, 2935)"
      ]
     },
     "execution_count": 9,
     "metadata": {},
     "output_type": "execute_result"
    }
   ],
   "source": [
    "len(df_trn), len(df_val)"
   ]
  },
  {
   "cell_type": "code",
   "execution_count": 11,
   "metadata": {
    "scrolled": true
   },
   "outputs": [],
   "source": [
    "# Replace label delimiter '; ' by single char '|' to allow compatibility with fastai 1.0.28\n",
    "\n",
    "df_trn['Contributing Factors / Situations'] = df_trn['Contributing Factors / Situations'].str.replace('; ', '|').astype(str)\n",
    "\n",
    "df_val['Contributing Factors / Situations'] = df_val['Contributing Factors / Situations'].str.replace('; ', '|').astype(str)\n"
   ]
  },
  {
   "cell_type": "markdown",
   "metadata": {},
   "source": [
    "## Language model\n",
    "\n",
    "Fine tune the language model"
   ]
  },
  {
   "cell_type": "code",
   "execution_count": null,
   "metadata": {},
   "outputs": [],
   "source": [
    "df = pd.concat([df_trn, df_val], ignore_index=True)"
   ]
  },
  {
   "cell_type": "code",
   "execution_count": 12,
   "metadata": {},
   "outputs": [],
   "source": [
    "bs = 48"
   ]
  },
  {
   "cell_type": "code",
   "execution_count": null,
   "metadata": {},
   "outputs": [],
   "source": [
    "data_lm = (TextList.from_df(df, path, cols='Narrative')\n",
    "                .random_split_by_pct(0.1)\n",
    "                .label_for_lm()\n",
    "                .databunch(bs=bs))"
   ]
  },
  {
   "cell_type": "code",
   "execution_count": null,
   "metadata": {},
   "outputs": [],
   "source": [
    "data_lm.save('tmp_lm')"
   ]
  },
  {
   "cell_type": "code",
   "execution_count": null,
   "metadata": {},
   "outputs": [],
   "source": [
    "learn_lm = language_model_learner(data_lm, pretrained_model=URLs.WT103, drop_mult=0.3)"
   ]
  },
  {
   "cell_type": "code",
   "execution_count": null,
   "metadata": {},
   "outputs": [],
   "source": [
    "learn_lm.lr_find()\n",
    "learn.recorder.plot(skip_end=10)"
   ]
  },
  {
   "cell_type": "code",
   "execution_count": null,
   "metadata": {},
   "outputs": [],
   "source": [
    "learn_lm.fit_one_cycle(1, 1e-2, moms=(0.8,0.7))"
   ]
  },
  {
   "cell_type": "code",
   "execution_count": null,
   "metadata": {},
   "outputs": [],
   "source": [
    "learn_lm.save('fit_head')"
   ]
  },
  {
   "cell_type": "code",
   "execution_count": null,
   "metadata": {},
   "outputs": [],
   "source": [
    "learn_lm.load('fit_head')"
   ]
  },
  {
   "cell_type": "code",
   "execution_count": null,
   "metadata": {},
   "outputs": [],
   "source": [
    "learn_lm.unfreeze()\n",
    "learn_lm.fit_one_cycle(10, 1e-3, moms=(0.8,0.7))"
   ]
  },
  {
   "cell_type": "code",
   "execution_count": null,
   "metadata": {},
   "outputs": [],
   "source": [
    "learn_lm.recorder.plot_losses()"
   ]
  },
  {
   "cell_type": "code",
   "execution_count": null,
   "metadata": {},
   "outputs": [],
   "source": [
    "learn_lm.save('fine_tuned')"
   ]
  },
  {
   "cell_type": "code",
   "execution_count": null,
   "metadata": {},
   "outputs": [],
   "source": [
    "learn_lm.save_encoder('fine_tuned_enc')"
   ]
  },
  {
   "cell_type": "markdown",
   "metadata": {},
   "source": [
    "Fine tuned models *fit_head*, *fine_tuned* and *fine_tuned_enc* are saved in default `path/models` folder\n",
    "\n",
    "Numeralized text and the integer to string dictionary are saved in user defined `path/tmp_lm` folder "
   ]
  },
  {
   "cell_type": "markdown",
   "metadata": {},
   "source": [
    "## Classifier"
   ]
  },
  {
   "cell_type": "code",
   "execution_count": 12,
   "metadata": {},
   "outputs": [],
   "source": [
    "bs = 48"
   ]
  },
  {
   "cell_type": "code",
   "execution_count": 13,
   "metadata": {},
   "outputs": [],
   "source": [
    "data_lm = TextLMDataBunch.load(path, 'tmp_lm', bs=bs)"
   ]
  },
  {
   "cell_type": "code",
   "execution_count": 14,
   "metadata": {},
   "outputs": [],
   "source": [
    "def precision(log_preds, targs, thresh=0.5, epsilon=1e-8):\n",
    "    pred_pos = (log_preds > thresh).float()\n",
    "    tpos = torch.mul((targs == pred_pos).float(), targs.float())\n",
    "    return (tpos.sum()/(pred_pos.sum() + epsilon))#.item()"
   ]
  },
  {
   "cell_type": "code",
   "execution_count": 15,
   "metadata": {},
   "outputs": [],
   "source": [
    "def recall(log_preds, targs, thresh=0.5, epsilon=1e-8):\n",
    "    pred_pos = (log_preds > thresh).float()\n",
    "    tpos = torch.mul((targs == pred_pos).float(), targs.float())\n",
    "    return (tpos.sum()/(targs.sum() + epsilon))"
   ]
  },
  {
   "cell_type": "code",
   "execution_count": null,
   "metadata": {},
   "outputs": [],
   "source": [
    "data_clas = TextClasDataBunch.from_df(path, train_df=df_trn, valid_df=df_val, \n",
    "                                  vocab=data_lm.vocab, \n",
    "                                  text_cols='Narrative', \n",
    "                                  label_cols='Contributing Factors / Situations',\n",
    "                                  label_delim='|',\n",
    "                                  bs=bs)"
   ]
  },
  {
   "cell_type": "code",
   "execution_count": null,
   "metadata": {},
   "outputs": [],
   "source": [
    "data_clas.save('tmp_clas')"
   ]
  },
  {
   "cell_type": "code",
   "execution_count": 16,
   "metadata": {},
   "outputs": [],
   "source": [
    "learn = text_classifier_learner(data_clas, drop_mult=0.5)\n",
    "learn.metrics = [accuracy_thresh, precision, recall]\n",
    "learn.load_encoder('fine_tuned_enc')"
   ]
  },
  {
   "cell_type": "code",
   "execution_count": 17,
   "metadata": {},
   "outputs": [
    {
     "name": "stdout",
     "output_type": "stream",
     "text": [
      "Total time: 00:37\n",
      "epoch  train_loss  valid_loss  accuracy_thresh  precision  recall  \n",
      "1      0.237107    0.216778    0.911840         0.795298   0.435772  (00:37)\n",
      "\n"
     ]
    }
   ],
   "source": [
    "learn.freeze()\n",
    "learn.fit_one_cycle(1, 3e-2, moms=(0.8,0.7))"
   ]
  },
  {
   "cell_type": "code",
   "execution_count": null,
   "metadata": {},
   "outputs": [],
   "source": [
    "learn.save('first_factors')"
   ]
  },
  {
   "cell_type": "code",
   "execution_count": null,
   "metadata": {},
   "outputs": [],
   "source": [
    "learn.load('first_factors')"
   ]
  },
  {
   "cell_type": "code",
   "execution_count": 18,
   "metadata": {},
   "outputs": [
    {
     "name": "stdout",
     "output_type": "stream",
     "text": [
      "Total time: 01:26\n",
      "epoch  train_loss  valid_loss  accuracy_thresh  precision  recall  \n",
      "1      0.225615    0.214058    0.911989         0.784269   0.507307  (00:41)\n",
      "2      0.213732    0.210868    0.911520         0.750227   0.537914  (00:45)\n",
      "\n"
     ]
    }
   ],
   "source": [
    "learn.freeze_to(-2)\n",
    "learn.fit_one_cycle(2, slice(1e-2/(2.6**4),1e-2), moms=(0.8,0.7), wd=0.1)"
   ]
  },
  {
   "cell_type": "code",
   "execution_count": null,
   "metadata": {},
   "outputs": [],
   "source": [
    "learn.save('second_factors')"
   ]
  },
  {
   "cell_type": "code",
   "execution_count": null,
   "metadata": {},
   "outputs": [],
   "source": [
    "learn.load('second_factors')"
   ]
  },
  {
   "cell_type": "code",
   "execution_count": null,
   "metadata": {},
   "outputs": [],
   "source": [
    "learn.unfreeze()\n",
    "learn.fit_one_cycle(2, slice(1e-3/(2.6**4),1e-3), moms=(0.8,0.7), wd=0.1)"
   ]
  },
  {
   "cell_type": "code",
   "execution_count": 17,
   "metadata": {
    "scrolled": false
   },
   "outputs": [
    {
     "name": "stderr",
     "output_type": "stream",
     "text": [
      "/home/krasin/anaconda2/envs/fastai.1/lib/python3.6/site-packages/torch/nn/functional.py:1126: UserWarning: nn.functional.sigmoid is deprecated. Use torch.sigmoid instead.\n",
      "  warnings.warn(\"nn.functional.sigmoid is deprecated. Use torch.sigmoid instead.\")\n"
     ]
    }
   ],
   "source": [
    "# Predict on the validation dataset\n",
    "y_pred, y_true =  learn.get_preds()"
   ]
  },
  {
   "cell_type": "markdown",
   "metadata": {},
   "source": [
    "Classifier models *first_factors* and *second_factors* are saved in default `path/models` folder\n",
    "\n",
    "Numeralized text, labels and the integer to string dictionary are saved in user defined `path/tmp_clas` folder "
   ]
  },
  {
   "cell_type": "markdown",
   "metadata": {},
   "source": [
    "## Evaluate results"
   ]
  },
  {
   "cell_type": "code",
   "execution_count": 18,
   "metadata": {
    "scrolled": false
   },
   "outputs": [],
   "source": [
    "from sklearn.metrics import precision_score, recall_score, accuracy_score, f1_score"
   ]
  },
  {
   "cell_type": "code",
   "execution_count": 39,
   "metadata": {},
   "outputs": [],
   "source": [
    "from sklearn.metrics import classification_report"
   ]
  },
  {
   "cell_type": "code",
   "execution_count": 33,
   "metadata": {},
   "outputs": [
    {
     "data": {
      "text/plain": [
       "0.6634428004330567"
      ]
     },
     "execution_count": 33,
     "metadata": {},
     "output_type": "execute_result"
    }
   ],
   "source": [
    "f1_score(y_true, y_pred>0.35, average='micro')"
   ]
  },
  {
   "cell_type": "code",
   "execution_count": 20,
   "metadata": {},
   "outputs": [],
   "source": [
    "y_true = y_true.numpy()\n",
    "scores = y_pred.numpy()"
   ]
  },
  {
   "cell_type": "code",
   "execution_count": 35,
   "metadata": {},
   "outputs": [
    {
     "data": {
      "text/plain": [
       "((2935, 16), (2935, 16))"
      ]
     },
     "execution_count": 35,
     "metadata": {},
     "output_type": "execute_result"
    }
   ],
   "source": [
    "scores.shape, y_true.shape"
   ]
  },
  {
   "cell_type": "code",
   "execution_count": null,
   "metadata": {
    "scrolled": true
   },
   "outputs": [],
   "source": [
    "metrics = classification_report(y_true, scores>0.35, \n",
    "                                target_names=data_clas.valid_ds.classes,\n",
    "                                digits=3, output_dict=True)#, target_names=target_names"
   ]
  },
  {
   "cell_type": "code",
   "execution_count": 61,
   "metadata": {},
   "outputs": [],
   "source": [
    "results = pd.DataFrame(metrics).T"
   ]
  },
  {
   "cell_type": "code",
   "execution_count": 63,
   "metadata": {},
   "outputs": [],
   "source": [
    "results = results.sort_values('support', ascending=False)"
   ]
  },
  {
   "cell_type": "code",
   "execution_count": 78,
   "metadata": {},
   "outputs": [],
   "source": [
    "results['support'] = results['support'].astype(int)\n",
    "results['f1-score'] = results['f1-score']*100\n",
    "results['precision'] = results['precision']*100\n",
    "results['recall'] = results['recall']*100"
   ]
  },
  {
   "cell_type": "code",
   "execution_count": 79,
   "metadata": {},
   "outputs": [
    {
     "data": {
      "text/html": [
       "<div>\n",
       "<style scoped>\n",
       "    .dataframe tbody tr th:only-of-type {\n",
       "        vertical-align: middle;\n",
       "    }\n",
       "\n",
       "    .dataframe tbody tr th {\n",
       "        vertical-align: top;\n",
       "    }\n",
       "\n",
       "    .dataframe thead th {\n",
       "        text-align: right;\n",
       "    }\n",
       "</style>\n",
       "<table border=\"1\" class=\"dataframe\">\n",
       "  <thead>\n",
       "    <tr style=\"text-align: right;\">\n",
       "      <th></th>\n",
       "      <th>f1-score</th>\n",
       "      <th>precision</th>\n",
       "      <th>recall</th>\n",
       "      <th>support</th>\n",
       "    </tr>\n",
       "  </thead>\n",
       "  <tbody>\n",
       "    <tr>\n",
       "      <th>samples avg</th>\n",
       "      <td>69.1</td>\n",
       "      <td>68.0</td>\n",
       "      <td>78.9</td>\n",
       "      <td>6301</td>\n",
       "    </tr>\n",
       "    <tr>\n",
       "      <th>micro avg</th>\n",
       "      <td>66.3</td>\n",
       "      <td>60.8</td>\n",
       "      <td>72.9</td>\n",
       "      <td>6301</td>\n",
       "    </tr>\n",
       "    <tr>\n",
       "      <th>weighted avg</th>\n",
       "      <td>64.3</td>\n",
       "      <td>61.3</td>\n",
       "      <td>72.9</td>\n",
       "      <td>6301</td>\n",
       "    </tr>\n",
       "    <tr>\n",
       "      <th>macro avg</th>\n",
       "      <td>36.0</td>\n",
       "      <td>45.4</td>\n",
       "      <td>38.1</td>\n",
       "      <td>6301</td>\n",
       "    </tr>\n",
       "    <tr>\n",
       "      <th>Human Factors</th>\n",
       "      <td>79.5</td>\n",
       "      <td>71.3</td>\n",
       "      <td>89.7</td>\n",
       "      <td>1672</td>\n",
       "    </tr>\n",
       "    <tr>\n",
       "      <th>Aircraft</th>\n",
       "      <td>84.7</td>\n",
       "      <td>77.1</td>\n",
       "      <td>94.1</td>\n",
       "      <td>1635</td>\n",
       "    </tr>\n",
       "    <tr>\n",
       "      <th>Procedure</th>\n",
       "      <td>52.5</td>\n",
       "      <td>37.2</td>\n",
       "      <td>89.1</td>\n",
       "      <td>754</td>\n",
       "    </tr>\n",
       "    <tr>\n",
       "      <th>Company Policy</th>\n",
       "      <td>57.7</td>\n",
       "      <td>65.6</td>\n",
       "      <td>51.4</td>\n",
       "      <td>624</td>\n",
       "    </tr>\n",
       "    <tr>\n",
       "      <th>Weather</th>\n",
       "      <td>62.5</td>\n",
       "      <td>64.0</td>\n",
       "      <td>61.1</td>\n",
       "      <td>270</td>\n",
       "    </tr>\n",
       "    <tr>\n",
       "      <th>Chart Or Publication</th>\n",
       "      <td>51.1</td>\n",
       "      <td>46.9</td>\n",
       "      <td>56.0</td>\n",
       "      <td>259</td>\n",
       "    </tr>\n",
       "    <tr>\n",
       "      <th>Environment - Non Weather Related</th>\n",
       "      <td>17.4</td>\n",
       "      <td>33.7</td>\n",
       "      <td>11.8</td>\n",
       "      <td>238</td>\n",
       "    </tr>\n",
       "    <tr>\n",
       "      <th>Airport</th>\n",
       "      <td>46.9</td>\n",
       "      <td>49.7</td>\n",
       "      <td>44.3</td>\n",
       "      <td>212</td>\n",
       "    </tr>\n",
       "    <tr>\n",
       "      <th>Manuals</th>\n",
       "      <td>47.1</td>\n",
       "      <td>42.6</td>\n",
       "      <td>52.8</td>\n",
       "      <td>163</td>\n",
       "    </tr>\n",
       "    <tr>\n",
       "      <th>Airspace Structure</th>\n",
       "      <td>13.2</td>\n",
       "      <td>50.0</td>\n",
       "      <td>7.6</td>\n",
       "      <td>92</td>\n",
       "    </tr>\n",
       "    <tr>\n",
       "      <th>MEL</th>\n",
       "      <td>40.0</td>\n",
       "      <td>43.7</td>\n",
       "      <td>36.9</td>\n",
       "      <td>84</td>\n",
       "    </tr>\n",
       "    <tr>\n",
       "      <th>Incorrect / Not Installed / Unavailable Part</th>\n",
       "      <td>16.5</td>\n",
       "      <td>30.8</td>\n",
       "      <td>11.3</td>\n",
       "      <td>71</td>\n",
       "    </tr>\n",
       "    <tr>\n",
       "      <th>ATC Equipment / Nav Facility / Buildings</th>\n",
       "      <td>3.0</td>\n",
       "      <td>14.3</td>\n",
       "      <td>1.7</td>\n",
       "      <td>60</td>\n",
       "    </tr>\n",
       "    <tr>\n",
       "      <th>Logbook Entry</th>\n",
       "      <td>0.0</td>\n",
       "      <td>0.0</td>\n",
       "      <td>0.0</td>\n",
       "      <td>59</td>\n",
       "    </tr>\n",
       "    <tr>\n",
       "      <th>Equipment / Tooling</th>\n",
       "      <td>3.5</td>\n",
       "      <td>100.0</td>\n",
       "      <td>1.8</td>\n",
       "      <td>56</td>\n",
       "    </tr>\n",
       "    <tr>\n",
       "      <th>Staffing</th>\n",
       "      <td>0.0</td>\n",
       "      <td>0.0</td>\n",
       "      <td>0.0</td>\n",
       "      <td>52</td>\n",
       "    </tr>\n",
       "  </tbody>\n",
       "</table>\n",
       "</div>"
      ],
      "text/plain": [
       "                                              f1-score  precision  recall  \\\n",
       "samples avg                                       69.1       68.0    78.9   \n",
       "micro avg                                         66.3       60.8    72.9   \n",
       "weighted avg                                      64.3       61.3    72.9   \n",
       "macro avg                                         36.0       45.4    38.1   \n",
       "Human Factors                                     79.5       71.3    89.7   \n",
       "Aircraft                                          84.7       77.1    94.1   \n",
       "Procedure                                         52.5       37.2    89.1   \n",
       "Company Policy                                    57.7       65.6    51.4   \n",
       "Weather                                           62.5       64.0    61.1   \n",
       "Chart Or Publication                              51.1       46.9    56.0   \n",
       "Environment - Non Weather Related                 17.4       33.7    11.8   \n",
       "Airport                                           46.9       49.7    44.3   \n",
       "Manuals                                           47.1       42.6    52.8   \n",
       "Airspace Structure                                13.2       50.0     7.6   \n",
       "MEL                                               40.0       43.7    36.9   \n",
       "Incorrect / Not Installed / Unavailable Part      16.5       30.8    11.3   \n",
       "ATC Equipment / Nav Facility / Buildings           3.0       14.3     1.7   \n",
       "Logbook Entry                                      0.0        0.0     0.0   \n",
       "Equipment / Tooling                                3.5      100.0     1.8   \n",
       "Staffing                                           0.0        0.0     0.0   \n",
       "\n",
       "                                              support  \n",
       "samples avg                                      6301  \n",
       "micro avg                                        6301  \n",
       "weighted avg                                     6301  \n",
       "macro avg                                        6301  \n",
       "Human Factors                                    1672  \n",
       "Aircraft                                         1635  \n",
       "Procedure                                         754  \n",
       "Company Policy                                    624  \n",
       "Weather                                           270  \n",
       "Chart Or Publication                              259  \n",
       "Environment - Non Weather Related                 238  \n",
       "Airport                                           212  \n",
       "Manuals                                           163  \n",
       "Airspace Structure                                 92  \n",
       "MEL                                                84  \n",
       "Incorrect / Not Installed / Unavailable Part       71  \n",
       "ATC Equipment / Nav Facility / Buildings           60  \n",
       "Logbook Entry                                      59  \n",
       "Equipment / Tooling                                56  \n",
       "Staffing                                           52  "
      ]
     },
     "execution_count": 79,
     "metadata": {},
     "output_type": "execute_result"
    }
   ],
   "source": [
    "pd.options.display.float_format = '{:,.1f}'.format\n",
    "results"
   ]
  }
 ],
 "metadata": {
  "kernelspec": {
   "display_name": "Python 3",
   "language": "python",
   "name": "python3"
  },
  "language_info": {
   "codemirror_mode": {
    "name": "ipython",
    "version": 3
   },
   "file_extension": ".py",
   "mimetype": "text/x-python",
   "name": "python",
   "nbconvert_exporter": "python",
   "pygments_lexer": "ipython3",
   "version": "3.6.8"
  }
 },
 "nbformat": 4,
 "nbformat_minor": 2
}
